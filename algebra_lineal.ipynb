{
 "cells": [
  {
   "cell_type": "code",
   "execution_count": 2,
   "id": "ebf87919",
   "metadata": {},
   "outputs": [],
   "source": [
    "#Escribir los modulos que se importan\n",
    "import numpy as np\n",
    "import numpy.linalg as ln"
   ]
  },
  {
   "cell_type": "code",
   "execution_count": 3,
   "id": "6c2a886a",
   "metadata": {},
   "outputs": [],
   "source": [
    "#Se desea estudiar la invertibilidad de la matriz A\n",
    "A=np.array([[3,2,-3],[-3,-4,9],[-1,-2,5]])"
   ]
  },
  {
   "cell_type": "code",
   "execution_count": 4,
   "id": "4836e7a1",
   "metadata": {},
   "outputs": [
    {
     "data": {
      "text/plain": [
       "array([[ 3,  2, -3],\n",
       "       [-3, -4,  9],\n",
       "       [-1, -2,  5]])"
      ]
     },
     "execution_count": 4,
     "metadata": {},
     "output_type": "execute_result"
    }
   ],
   "source": [
    "A"
   ]
  },
  {
   "cell_type": "code",
   "execution_count": 5,
   "id": "0c266561",
   "metadata": {},
   "outputs": [
    {
     "data": {
      "text/plain": [
       "0.0"
      ]
     },
     "execution_count": 5,
     "metadata": {},
     "output_type": "execute_result"
    }
   ],
   "source": [
    "ln.det(A)"
   ]
  },
  {
   "cell_type": "code",
   "execution_count": 6,
   "id": "8974d83d",
   "metadata": {},
   "outputs": [],
   "source": [
    "#La matriz no tiene inversa por lo tanto no puede calcularse ya que el determinante es igual a cero\n"
   ]
  },
  {
   "cell_type": "code",
   "execution_count": 7,
   "id": "0dd0f373",
   "metadata": {},
   "outputs": [
    {
     "data": {
      "text/plain": [
       "array([[ 3, -3, -1],\n",
       "       [ 2, -4, -2],\n",
       "       [-3,  9,  5]])"
      ]
     },
     "execution_count": 7,
     "metadata": {},
     "output_type": "execute_result"
    }
   ],
   "source": [
    "#Sí se puede buscar la transpuesta y los autovalores y los autovectores\n",
    "AT=np.transpose(A)\n",
    "AT"
   ]
  },
  {
   "cell_type": "code",
   "execution_count": 8,
   "id": "a97cb7fe",
   "metadata": {},
   "outputs": [],
   "source": [
    "autoA,vectA=ln.eig(A)"
   ]
  },
  {
   "cell_type": "code",
   "execution_count": 9,
   "id": "e40d4ee1",
   "metadata": {},
   "outputs": [
    {
     "data": {
      "text/plain": [
       "array([ 2.00000000e+00, -2.22044605e-16,  2.00000000e+00])"
      ]
     },
     "execution_count": 9,
     "metadata": {},
     "output_type": "execute_result"
    }
   ],
   "source": [
    "autoA"
   ]
  },
  {
   "cell_type": "code",
   "execution_count": 10,
   "id": "d953a1f7",
   "metadata": {},
   "outputs": [
    {
     "data": {
      "text/plain": [
       "array([[ 0.6882472 ,  0.30151134, -0.435037  ],\n",
       "       [-0.6882472 , -0.90453403,  0.80936038],\n",
       "       [-0.22941573, -0.30151134,  0.39456125]])"
      ]
     },
     "execution_count": 10,
     "metadata": {},
     "output_type": "execute_result"
    }
   ],
   "source": [
    "vectA"
   ]
  },
  {
   "cell_type": "code",
   "execution_count": 11,
   "id": "0d6d6d02",
   "metadata": {},
   "outputs": [],
   "source": [
    "#Comprobación de los autovalores. Debe cumplirse que det(A-x*I)=0\n",
    "I=np.identity(3)"
   ]
  },
  {
   "cell_type": "code",
   "execution_count": 12,
   "id": "6a733048",
   "metadata": {},
   "outputs": [
    {
     "data": {
      "text/plain": [
       "array([[1., 0., 0.],\n",
       "       [0., 1., 0.],\n",
       "       [0., 0., 1.]])"
      ]
     },
     "execution_count": 12,
     "metadata": {},
     "output_type": "execute_result"
    }
   ],
   "source": [
    "I"
   ]
  },
  {
   "cell_type": "code",
   "execution_count": 13,
   "id": "e1843e4a",
   "metadata": {},
   "outputs": [],
   "source": [
    "x=autoA[0]"
   ]
  },
  {
   "cell_type": "code",
   "execution_count": 14,
   "id": "b27ef0c2",
   "metadata": {},
   "outputs": [
    {
     "data": {
      "text/plain": [
       "-1.1832913578315107e-30"
      ]
     },
     "execution_count": 14,
     "metadata": {},
     "output_type": "execute_result"
    }
   ],
   "source": [
    "ln.det(A-x*I)"
   ]
  },
  {
   "cell_type": "code",
   "execution_count": 15,
   "id": "70fca5fb",
   "metadata": {},
   "outputs": [],
   "source": [
    "x=autoA[2]"
   ]
  },
  {
   "cell_type": "code",
   "execution_count": 16,
   "id": "7ecd899f",
   "metadata": {},
   "outputs": [
    {
     "data": {
      "text/plain": [
       "-1.479114197289387e-30"
      ]
     },
     "execution_count": 16,
     "metadata": {},
     "output_type": "execute_result"
    }
   ],
   "source": [
    "ln.det(A-x*I)"
   ]
  },
  {
   "cell_type": "code",
   "execution_count": 17,
   "id": "52dab24a",
   "metadata": {},
   "outputs": [
    {
     "data": {
      "text/plain": [
       "array([[-1,  2, -3],\n",
       "       [ 2,  0,  1],\n",
       "       [ 3, -4,  4]])"
      ]
     },
     "execution_count": 17,
     "metadata": {},
     "output_type": "execute_result"
    }
   ],
   "source": [
    "#Ahora se desea resolver el sistema Cx=b\n",
    "C=np.array([[-1,2,-3],[2,0,1],[3,-4,4]])\n",
    "C"
   ]
  },
  {
   "cell_type": "code",
   "execution_count": 18,
   "id": "b24440ed",
   "metadata": {},
   "outputs": [],
   "source": [
    "b=np.array([1,0,2])"
   ]
  },
  {
   "cell_type": "code",
   "execution_count": 19,
   "id": "79256dea",
   "metadata": {},
   "outputs": [
    {
     "data": {
      "text/plain": [
       "10.000000000000002"
      ]
     },
     "execution_count": 19,
     "metadata": {},
     "output_type": "execute_result"
    }
   ],
   "source": [
    "ln.det(C)"
   ]
  },
  {
   "cell_type": "code",
   "execution_count": 20,
   "id": "4fadfc17",
   "metadata": {},
   "outputs": [],
   "source": [
    "x=np.dot(ln.inv(C),b)"
   ]
  },
  {
   "cell_type": "code",
   "execution_count": 21,
   "id": "47f718f0",
   "metadata": {},
   "outputs": [
    {
     "data": {
      "text/plain": [
       "array([ 0.8, -1.5, -1.6])"
      ]
     },
     "execution_count": 21,
     "metadata": {},
     "output_type": "execute_result"
    }
   ],
   "source": [
    "x"
   ]
  },
  {
   "cell_type": "code",
   "execution_count": 22,
   "id": "8d4936d1",
   "metadata": {},
   "outputs": [
    {
     "data": {
      "text/plain": [
       "array([[ 1,  2, -3],\n",
       "       [ 0,  0,  1],\n",
       "       [ 2, -4,  4]])"
      ]
     },
     "execution_count": 22,
     "metadata": {},
     "output_type": "execute_result"
    }
   ],
   "source": [
    "Cx=C.copy()\n",
    "Cx[:,0]=b\n",
    "Cx"
   ]
  },
  {
   "cell_type": "code",
   "execution_count": 23,
   "id": "a95918f0",
   "metadata": {},
   "outputs": [
    {
     "data": {
      "text/plain": [
       "array([[-1,  1, -3],\n",
       "       [ 2,  0,  1],\n",
       "       [ 3,  2,  4]])"
      ]
     },
     "execution_count": 23,
     "metadata": {},
     "output_type": "execute_result"
    }
   ],
   "source": [
    "Cy=C.copy()\n",
    "Cy[:,1]=b\n",
    "Cy"
   ]
  },
  {
   "cell_type": "code",
   "execution_count": 24,
   "id": "50361999",
   "metadata": {},
   "outputs": [
    {
     "data": {
      "text/plain": [
       "array([[-1,  2,  1],\n",
       "       [ 2,  0,  0],\n",
       "       [ 3, -4,  2]])"
      ]
     },
     "execution_count": 24,
     "metadata": {},
     "output_type": "execute_result"
    }
   ],
   "source": [
    "Cz=C.copy()\n",
    "Cz[:,2]=b\n",
    "Cz"
   ]
  },
  {
   "cell_type": "code",
   "execution_count": 25,
   "id": "8ef55bab",
   "metadata": {},
   "outputs": [
    {
     "name": "stdout",
     "output_type": "stream",
     "text": [
      "la solucion es x=0.7999999999999997,y=-1.5000000000000004,z=-1.6000000000000005\n"
     ]
    }
   ],
   "source": [
    "x1=ln.det(Cx)/ln.det(C)\n",
    "y1=ln.det(Cy)/ln.det(C)\n",
    "z1=ln.det(Cz)/ln.det(C)\n",
    "print(\"la solucion es x={},y={},z={}\".format(x1,y1,z1))"
   ]
  },
  {
   "cell_type": "code",
   "execution_count": null,
   "id": "b65a6bcb",
   "metadata": {},
   "outputs": [],
   "source": []
  }
 ],
 "metadata": {
  "kernelspec": {
   "display_name": "Python 3",
   "language": "python",
   "name": "python3"
  },
  "language_info": {
   "codemirror_mode": {
    "name": "ipython",
    "version": 3
   },
   "file_extension": ".py",
   "mimetype": "text/x-python",
   "name": "python",
   "nbconvert_exporter": "python",
   "pygments_lexer": "ipython3",
   "version": "3.9.5"
  },
  "vscode": {
   "interpreter": {
    "hash": "9ada32eea83c06c6418fd9dacb5580edb909b082032d188eabcfd6a2b68a7cd7"
   }
  }
 },
 "nbformat": 4,
 "nbformat_minor": 5
}
